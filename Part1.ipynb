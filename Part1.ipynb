{
 "cells": [
  {
   "cell_type": "markdown",
   "metadata": {},
   "source": [
    "Part one:"
   ]
  },
  {
   "cell_type": "markdown",
   "metadata": {},
   "source": [
    "1)\ta) 300/425"
   ]
  },
  {
   "cell_type": "markdown",
   "metadata": {},
   "source": [
    "       b) 3/3+1 = ¾"
   ]
  },
  {
   "cell_type": "markdown",
   "metadata": {},
   "source": [
    "2)\tyellow = 20%/34%\n",
    "Green = 20%/30%\n",
    "\tad them together\n",
    "      = 40%/64% = 62.5%"
   ]
  },
  {
   "cell_type": "markdown",
   "metadata": {},
   "source": [
    "3) 99.911%"
   ]
  },
  {
   "cell_type": "markdown",
   "metadata": {},
   "source": [
    " "
   ]
  },
  {
   "cell_type": "markdown",
   "metadata": {},
   "source": [
    "Random Variables:"
   ]
  },
  {
   "cell_type": "markdown",
   "metadata": {},
   "source": [
    "1) 6*4  +  8*-4 = 0"
   ]
  },
  {
   "cell_type": "markdown",
   "metadata": {},
   "source": [
    "2) 15*-6  +  4*0  +  6*5 = -2.4"
   ]
  },
  {
   "cell_type": "markdown",
   "metadata": {},
   "source": [
    "3) Mean = 40% of 8 = 3.2, std = using the binomial destubution: variance = 8 * 0.4 * 0.6 =1.92 sqrt for the std: =1.385"
   ]
  },
  {
   "cell_type": "markdown",
   "metadata": {},
   "source": [
    "4) Chance that is over 26: 1- (26-26)/2= ½  chance is under 30: (30-26)/2 =2 space in-between:     -1.5 = in z table: 0.6681"
   ]
  },
  {
   "cell_type": "markdown",
   "metadata": {},
   "source": [
    "5) Area of a triangle: (2*0.4)/2 = 0.4"
   ]
  },
  {
   "cell_type": "markdown",
   "metadata": {},
   "source": [
    "6) Four ways it can come out 4*(all 3 options: 300/500 * 299/499 * 298/498 *no children's: 200/497) = 0.3462919633356553353003"
   ]
  },
  {
   "cell_type": "markdown",
   "metadata": {},
   "source": [
    "7) 0.1*-10 + 0.35*-5 + 0.1*0 + 0.1*10 + 0.35*5 = 0"
   ]
  }
 ],
 "metadata": {
  "kernelspec": {
   "display_name": "Python 3",
   "language": "python",
   "name": "python3"
  },
  "language_info": {
   "codemirror_mode": {
    "name": "ipython",
    "version": 3
   },
   "file_extension": ".py",
   "mimetype": "text/x-python",
   "name": "python",
   "nbconvert_exporter": "python",
   "pygments_lexer": "ipython3",
   "version": "3.8.5"
  }
 },
 "nbformat": 4,
 "nbformat_minor": 4
}
