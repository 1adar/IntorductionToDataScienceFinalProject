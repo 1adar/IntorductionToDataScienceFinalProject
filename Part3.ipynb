{
 "cells": [
  {
   "cell_type": "code",
   "execution_count": 83,
   "metadata": {},
   "outputs": [],
   "source": [
    "import pandas as pd\n",
    "import numpy as np\n",
    "import seaborn as sns\n",
    "import matplotlib.pyplot as plt\n",
    "import math\n",
    "pd.set_option('display.max_columns', None)"
   ]
  },
  {
   "cell_type": "markdown",
   "metadata": {},
   "source": [
    "https://www.kaggle.com/gauthamp10/google-playstore-apps to the dataset"
   ]
  },
  {
   "cell_type": "code",
   "execution_count": 84,
   "metadata": {},
   "outputs": [],
   "source": [
    "apps = pd.read_csv(r'C:\\Users\\User\\Documents\\apps\\Google-Playstore.csv')"
   ]
  },
  {
   "cell_type": "code",
   "execution_count": 85,
   "metadata": {},
   "outputs": [
    {
     "data": {
      "text/html": [
       "<div>\n",
       "<style scoped>\n",
       "    .dataframe tbody tr th:only-of-type {\n",
       "        vertical-align: middle;\n",
       "    }\n",
       "\n",
       "    .dataframe tbody tr th {\n",
       "        vertical-align: top;\n",
       "    }\n",
       "\n",
       "    .dataframe thead th {\n",
       "        text-align: right;\n",
       "    }\n",
       "</style>\n",
       "<table border=\"1\" class=\"dataframe\">\n",
       "  <thead>\n",
       "    <tr style=\"text-align: right;\">\n",
       "      <th></th>\n",
       "      <th>App Name</th>\n",
       "      <th>App Id</th>\n",
       "      <th>Category</th>\n",
       "      <th>Rating</th>\n",
       "      <th>Rating Count</th>\n",
       "      <th>Installs</th>\n",
       "      <th>Minimum Installs</th>\n",
       "      <th>Maximum Installs</th>\n",
       "      <th>Free</th>\n",
       "      <th>Price</th>\n",
       "      <th>Currency</th>\n",
       "      <th>Size</th>\n",
       "      <th>Minimum Android</th>\n",
       "      <th>Developer Id</th>\n",
       "      <th>Developer Website</th>\n",
       "      <th>Developer Email</th>\n",
       "      <th>Released</th>\n",
       "      <th>Last Updated</th>\n",
       "      <th>Content Rating</th>\n",
       "      <th>Privacy Policy</th>\n",
       "      <th>Ad Supported</th>\n",
       "      <th>In App Purchases</th>\n",
       "      <th>Editors Choice</th>\n",
       "    </tr>\n",
       "  </thead>\n",
       "  <tbody>\n",
       "    <tr>\n",
       "      <th>0</th>\n",
       "      <td>HTTrack Website Copier</td>\n",
       "      <td>com.httrack.android</td>\n",
       "      <td>Communication</td>\n",
       "      <td>3.6</td>\n",
       "      <td>2848.0</td>\n",
       "      <td>100,000+</td>\n",
       "      <td>100000.0</td>\n",
       "      <td>351560</td>\n",
       "      <td>True</td>\n",
       "      <td>0.0</td>\n",
       "      <td>USD</td>\n",
       "      <td>2.7M</td>\n",
       "      <td>2.3 and up</td>\n",
       "      <td>Xavier Roche</td>\n",
       "      <td>http://www.httrack.com/</td>\n",
       "      <td>roche+android@httrack.com</td>\n",
       "      <td>Aug 12, 2013</td>\n",
       "      <td>May 20, 2017</td>\n",
       "      <td>Everyone</td>\n",
       "      <td>http://android.httrack.com/privacy-policy.html</td>\n",
       "      <td>False</td>\n",
       "      <td>False</td>\n",
       "      <td>False</td>\n",
       "    </tr>\n",
       "    <tr>\n",
       "      <th>1</th>\n",
       "      <td>World War 2: Offline Strategy</td>\n",
       "      <td>com.skizze.wwii</td>\n",
       "      <td>Strategy</td>\n",
       "      <td>4.3</td>\n",
       "      <td>17297.0</td>\n",
       "      <td>1,000,000+</td>\n",
       "      <td>1000000.0</td>\n",
       "      <td>2161778</td>\n",
       "      <td>True</td>\n",
       "      <td>0.0</td>\n",
       "      <td>USD</td>\n",
       "      <td>86M</td>\n",
       "      <td>5.1 and up</td>\n",
       "      <td>Skizze Games</td>\n",
       "      <td>http://stereo7.com/</td>\n",
       "      <td>Skizze.Games@gmail.com</td>\n",
       "      <td>Jul 19, 2018</td>\n",
       "      <td>Nov 26, 2020</td>\n",
       "      <td>Everyone 10+</td>\n",
       "      <td>https://www.iubenda.com/privacy-policy/8032781</td>\n",
       "      <td>True</td>\n",
       "      <td>True</td>\n",
       "      <td>False</td>\n",
       "    </tr>\n",
       "    <tr>\n",
       "      <th>2</th>\n",
       "      <td>WPSApp</td>\n",
       "      <td>com.themausoft.wpsapp</td>\n",
       "      <td>Tools</td>\n",
       "      <td>4.2</td>\n",
       "      <td>488639.0</td>\n",
       "      <td>50,000,000+</td>\n",
       "      <td>50000000.0</td>\n",
       "      <td>79304739</td>\n",
       "      <td>True</td>\n",
       "      <td>0.0</td>\n",
       "      <td>USD</td>\n",
       "      <td>5.8M</td>\n",
       "      <td>4.1 and up</td>\n",
       "      <td>TheMauSoft</td>\n",
       "      <td>http://www.themausoft.com</td>\n",
       "      <td>wpsapp.app@gmail.com</td>\n",
       "      <td>Mar 7, 2016</td>\n",
       "      <td>Oct 21, 2020</td>\n",
       "      <td>Everyone</td>\n",
       "      <td>https://sites.google.com/view/wpsapppolicy/main</td>\n",
       "      <td>True</td>\n",
       "      <td>False</td>\n",
       "      <td>False</td>\n",
       "    </tr>\n",
       "    <tr>\n",
       "      <th>3</th>\n",
       "      <td>OfficeSuite - Office, PDF, Word, Excel, PowerP...</td>\n",
       "      <td>com.mobisystems.office</td>\n",
       "      <td>Business</td>\n",
       "      <td>4.2</td>\n",
       "      <td>1224420.0</td>\n",
       "      <td>100,000,000+</td>\n",
       "      <td>100000000.0</td>\n",
       "      <td>163660067</td>\n",
       "      <td>True</td>\n",
       "      <td>0.0</td>\n",
       "      <td>USD</td>\n",
       "      <td>59M</td>\n",
       "      <td>4.4 and up</td>\n",
       "      <td>MobiSystems</td>\n",
       "      <td>http://www.mobisystems.com</td>\n",
       "      <td>support-officesuite-android@mobisystems.com</td>\n",
       "      <td>Dec 22, 2011</td>\n",
       "      <td>Nov 23, 2020</td>\n",
       "      <td>Everyone</td>\n",
       "      <td>http://www.mobisystems.com/mobile/privacy-poli...</td>\n",
       "      <td>True</td>\n",
       "      <td>True</td>\n",
       "      <td>False</td>\n",
       "    </tr>\n",
       "    <tr>\n",
       "      <th>4</th>\n",
       "      <td>Loud Player Free</td>\n",
       "      <td>com.arthelion.loudplayer</td>\n",
       "      <td>Music &amp; Audio</td>\n",
       "      <td>4.2</td>\n",
       "      <td>665.0</td>\n",
       "      <td>50,000+</td>\n",
       "      <td>50000.0</td>\n",
       "      <td>73463</td>\n",
       "      <td>True</td>\n",
       "      <td>0.0</td>\n",
       "      <td>USD</td>\n",
       "      <td>29M</td>\n",
       "      <td>5.0 and up</td>\n",
       "      <td>Arthelion92</td>\n",
       "      <td>http://www.arthelion.com</td>\n",
       "      <td>arthelion92@gmail.com</td>\n",
       "      <td>Sep 24, 2016</td>\n",
       "      <td>Nov 22, 2020</td>\n",
       "      <td>Everyone</td>\n",
       "      <td>http://www.arthelion.com/index.php/fr/android-...</td>\n",
       "      <td>False</td>\n",
       "      <td>False</td>\n",
       "      <td>False</td>\n",
       "    </tr>\n",
       "    <tr>\n",
       "      <th>...</th>\n",
       "      <td>...</td>\n",
       "      <td>...</td>\n",
       "      <td>...</td>\n",
       "      <td>...</td>\n",
       "      <td>...</td>\n",
       "      <td>...</td>\n",
       "      <td>...</td>\n",
       "      <td>...</td>\n",
       "      <td>...</td>\n",
       "      <td>...</td>\n",
       "      <td>...</td>\n",
       "      <td>...</td>\n",
       "      <td>...</td>\n",
       "      <td>...</td>\n",
       "      <td>...</td>\n",
       "      <td>...</td>\n",
       "      <td>...</td>\n",
       "      <td>...</td>\n",
       "      <td>...</td>\n",
       "      <td>...</td>\n",
       "      <td>...</td>\n",
       "      <td>...</td>\n",
       "      <td>...</td>\n",
       "    </tr>\n",
       "    <tr>\n",
       "      <th>1118129</th>\n",
       "      <td>Campaign Blaster Yuge Edition</td>\n",
       "      <td>com.unifeyed.CampaignBlasterYuge</td>\n",
       "      <td>Casual</td>\n",
       "      <td>0.0</td>\n",
       "      <td>0.0</td>\n",
       "      <td>50+</td>\n",
       "      <td>50.0</td>\n",
       "      <td>60</td>\n",
       "      <td>True</td>\n",
       "      <td>0.0</td>\n",
       "      <td>USD</td>\n",
       "      <td>27M</td>\n",
       "      <td>2.3 and up</td>\n",
       "      <td>UNIFEYED</td>\n",
       "      <td>http://www.unifeyed.com</td>\n",
       "      <td>development@unifeyed.com</td>\n",
       "      <td>May 2, 2016</td>\n",
       "      <td>May 03, 2016</td>\n",
       "      <td>Everyone</td>\n",
       "      <td>http://unifeyed.com/privacy/</td>\n",
       "      <td>True</td>\n",
       "      <td>True</td>\n",
       "      <td>False</td>\n",
       "    </tr>\n",
       "    <tr>\n",
       "      <th>1118130</th>\n",
       "      <td>Safer Job Sites</td>\n",
       "      <td>com.unifeyed.safety</td>\n",
       "      <td>Productivity</td>\n",
       "      <td>0.0</td>\n",
       "      <td>0.0</td>\n",
       "      <td>5+</td>\n",
       "      <td>5.0</td>\n",
       "      <td>5</td>\n",
       "      <td>True</td>\n",
       "      <td>0.0</td>\n",
       "      <td>USD</td>\n",
       "      <td>4.3M</td>\n",
       "      <td>5.0 and up</td>\n",
       "      <td>UNIFEYED</td>\n",
       "      <td>https://unifeyed.com</td>\n",
       "      <td>development@unifeyed.com</td>\n",
       "      <td>Aug 21, 2019</td>\n",
       "      <td>Dec 05, 2019</td>\n",
       "      <td>Everyone</td>\n",
       "      <td>https://unifeyed.com/privacy</td>\n",
       "      <td>False</td>\n",
       "      <td>False</td>\n",
       "      <td>False</td>\n",
       "    </tr>\n",
       "    <tr>\n",
       "      <th>1118132</th>\n",
       "      <td>AutoThink</td>\n",
       "      <td>com.fleetenable.autothink</td>\n",
       "      <td>Productivity</td>\n",
       "      <td>0.0</td>\n",
       "      <td>0.0</td>\n",
       "      <td>100+</td>\n",
       "      <td>100.0</td>\n",
       "      <td>127</td>\n",
       "      <td>True</td>\n",
       "      <td>0.0</td>\n",
       "      <td>USD</td>\n",
       "      <td>4.7M</td>\n",
       "      <td>4.1 and up</td>\n",
       "      <td>Imaginnovate</td>\n",
       "      <td>http://www.imaginnovate.com</td>\n",
       "      <td>krishna@imaginnovate.com</td>\n",
       "      <td>Nov 26, 2019</td>\n",
       "      <td>Nov 13, 2020</td>\n",
       "      <td>Everyone</td>\n",
       "      <td>http://www.imaginnovate.com</td>\n",
       "      <td>False</td>\n",
       "      <td>False</td>\n",
       "      <td>False</td>\n",
       "    </tr>\n",
       "    <tr>\n",
       "      <th>1118133</th>\n",
       "      <td>FieldEnable</td>\n",
       "      <td>com.fieldenable.app.fieldenable</td>\n",
       "      <td>Business</td>\n",
       "      <td>0.0</td>\n",
       "      <td>0.0</td>\n",
       "      <td>100+</td>\n",
       "      <td>100.0</td>\n",
       "      <td>282</td>\n",
       "      <td>True</td>\n",
       "      <td>0.0</td>\n",
       "      <td>USD</td>\n",
       "      <td>28M</td>\n",
       "      <td>5.0 and up</td>\n",
       "      <td>Imaginnovate</td>\n",
       "      <td>http://www.imaginnovate.com</td>\n",
       "      <td>FieldEnable@imaginnovate.com</td>\n",
       "      <td>Apr 30, 2018</td>\n",
       "      <td>Nov 30, 2020</td>\n",
       "      <td>Everyone</td>\n",
       "      <td>http://tw.fieldenable.com/privacy</td>\n",
       "      <td>False</td>\n",
       "      <td>False</td>\n",
       "      <td>False</td>\n",
       "    </tr>\n",
       "    <tr>\n",
       "      <th>1118134</th>\n",
       "      <td>Live Concert</td>\n",
       "      <td>com.varbin.liveconcert</td>\n",
       "      <td>Events</td>\n",
       "      <td>0.0</td>\n",
       "      <td>0.0</td>\n",
       "      <td>500+</td>\n",
       "      <td>500.0</td>\n",
       "      <td>986</td>\n",
       "      <td>True</td>\n",
       "      <td>0.0</td>\n",
       "      <td>USD</td>\n",
       "      <td>8.1M</td>\n",
       "      <td>4.1 and up</td>\n",
       "      <td>Varbin Softwares</td>\n",
       "      <td>http://varbin.com</td>\n",
       "      <td>varbinsoftware@gmail.com</td>\n",
       "      <td>Dec 20, 2017</td>\n",
       "      <td>Dec 20, 2017</td>\n",
       "      <td>Everyone</td>\n",
       "      <td>http://varbin.com/live-concert-privacy-policy</td>\n",
       "      <td>False</td>\n",
       "      <td>False</td>\n",
       "      <td>False</td>\n",
       "    </tr>\n",
       "  </tbody>\n",
       "</table>\n",
       "<p>621972 rows × 23 columns</p>\n",
       "</div>"
      ],
      "text/plain": [
       "                                                  App Name  \\\n",
       "0                                   HTTrack Website Copier   \n",
       "1                            World War 2: Offline Strategy   \n",
       "2                                                   WPSApp   \n",
       "3        OfficeSuite - Office, PDF, Word, Excel, PowerP...   \n",
       "4                                         Loud Player Free   \n",
       "...                                                    ...   \n",
       "1118129                      Campaign Blaster Yuge Edition   \n",
       "1118130                                    Safer Job Sites   \n",
       "1118132                                          AutoThink   \n",
       "1118133                                        FieldEnable   \n",
       "1118134                                       Live Concert   \n",
       "\n",
       "                                   App Id       Category  Rating  \\\n",
       "0                     com.httrack.android  Communication     3.6   \n",
       "1                         com.skizze.wwii       Strategy     4.3   \n",
       "2                   com.themausoft.wpsapp          Tools     4.2   \n",
       "3                  com.mobisystems.office       Business     4.2   \n",
       "4                com.arthelion.loudplayer  Music & Audio     4.2   \n",
       "...                                   ...            ...     ...   \n",
       "1118129  com.unifeyed.CampaignBlasterYuge         Casual     0.0   \n",
       "1118130               com.unifeyed.safety   Productivity     0.0   \n",
       "1118132         com.fleetenable.autothink   Productivity     0.0   \n",
       "1118133   com.fieldenable.app.fieldenable       Business     0.0   \n",
       "1118134            com.varbin.liveconcert         Events     0.0   \n",
       "\n",
       "         Rating Count      Installs  Minimum Installs  Maximum Installs  Free  \\\n",
       "0              2848.0      100,000+          100000.0            351560  True   \n",
       "1             17297.0    1,000,000+         1000000.0           2161778  True   \n",
       "2            488639.0   50,000,000+        50000000.0          79304739  True   \n",
       "3           1224420.0  100,000,000+       100000000.0         163660067  True   \n",
       "4               665.0       50,000+           50000.0             73463  True   \n",
       "...               ...           ...               ...               ...   ...   \n",
       "1118129           0.0           50+              50.0                60  True   \n",
       "1118130           0.0            5+               5.0                 5  True   \n",
       "1118132           0.0          100+             100.0               127  True   \n",
       "1118133           0.0          100+             100.0               282  True   \n",
       "1118134           0.0          500+             500.0               986  True   \n",
       "\n",
       "         Price Currency  Size Minimum Android      Developer Id  \\\n",
       "0          0.0      USD  2.7M      2.3 and up      Xavier Roche   \n",
       "1          0.0      USD   86M      5.1 and up      Skizze Games   \n",
       "2          0.0      USD  5.8M      4.1 and up        TheMauSoft   \n",
       "3          0.0      USD   59M      4.4 and up       MobiSystems   \n",
       "4          0.0      USD   29M      5.0 and up       Arthelion92   \n",
       "...        ...      ...   ...             ...               ...   \n",
       "1118129    0.0      USD   27M      2.3 and up          UNIFEYED   \n",
       "1118130    0.0      USD  4.3M      5.0 and up          UNIFEYED   \n",
       "1118132    0.0      USD  4.7M      4.1 and up      Imaginnovate   \n",
       "1118133    0.0      USD   28M      5.0 and up      Imaginnovate   \n",
       "1118134    0.0      USD  8.1M      4.1 and up  Varbin Softwares   \n",
       "\n",
       "                   Developer Website  \\\n",
       "0            http://www.httrack.com/   \n",
       "1                http://stereo7.com/   \n",
       "2          http://www.themausoft.com   \n",
       "3         http://www.mobisystems.com   \n",
       "4           http://www.arthelion.com   \n",
       "...                              ...   \n",
       "1118129      http://www.unifeyed.com   \n",
       "1118130         https://unifeyed.com   \n",
       "1118132  http://www.imaginnovate.com   \n",
       "1118133  http://www.imaginnovate.com   \n",
       "1118134            http://varbin.com   \n",
       "\n",
       "                                     Developer Email      Released  \\\n",
       "0                          roche+android@httrack.com  Aug 12, 2013   \n",
       "1                             Skizze.Games@gmail.com  Jul 19, 2018   \n",
       "2                               wpsapp.app@gmail.com   Mar 7, 2016   \n",
       "3        support-officesuite-android@mobisystems.com  Dec 22, 2011   \n",
       "4                              arthelion92@gmail.com  Sep 24, 2016   \n",
       "...                                              ...           ...   \n",
       "1118129                     development@unifeyed.com   May 2, 2016   \n",
       "1118130                     development@unifeyed.com  Aug 21, 2019   \n",
       "1118132                     krishna@imaginnovate.com  Nov 26, 2019   \n",
       "1118133                 FieldEnable@imaginnovate.com  Apr 30, 2018   \n",
       "1118134                     varbinsoftware@gmail.com  Dec 20, 2017   \n",
       "\n",
       "         Last Updated Content Rating  \\\n",
       "0        May 20, 2017       Everyone   \n",
       "1        Nov 26, 2020   Everyone 10+   \n",
       "2        Oct 21, 2020       Everyone   \n",
       "3        Nov 23, 2020       Everyone   \n",
       "4        Nov 22, 2020       Everyone   \n",
       "...               ...            ...   \n",
       "1118129  May 03, 2016       Everyone   \n",
       "1118130  Dec 05, 2019       Everyone   \n",
       "1118132  Nov 13, 2020       Everyone   \n",
       "1118133  Nov 30, 2020       Everyone   \n",
       "1118134  Dec 20, 2017       Everyone   \n",
       "\n",
       "                                            Privacy Policy  Ad Supported  \\\n",
       "0           http://android.httrack.com/privacy-policy.html         False   \n",
       "1           https://www.iubenda.com/privacy-policy/8032781          True   \n",
       "2          https://sites.google.com/view/wpsapppolicy/main          True   \n",
       "3        http://www.mobisystems.com/mobile/privacy-poli...          True   \n",
       "4        http://www.arthelion.com/index.php/fr/android-...         False   \n",
       "...                                                    ...           ...   \n",
       "1118129                       http://unifeyed.com/privacy/          True   \n",
       "1118130                       https://unifeyed.com/privacy         False   \n",
       "1118132                        http://www.imaginnovate.com         False   \n",
       "1118133                  http://tw.fieldenable.com/privacy         False   \n",
       "1118134      http://varbin.com/live-concert-privacy-policy         False   \n",
       "\n",
       "         In App Purchases  Editors Choice  \n",
       "0                   False           False  \n",
       "1                    True           False  \n",
       "2                   False           False  \n",
       "3                    True           False  \n",
       "4                   False           False  \n",
       "...                   ...             ...  \n",
       "1118129              True           False  \n",
       "1118130             False           False  \n",
       "1118132             False           False  \n",
       "1118133             False           False  \n",
       "1118134             False           False  \n",
       "\n",
       "[621972 rows x 23 columns]"
      ]
     },
     "execution_count": 85,
     "metadata": {},
     "output_type": "execute_result"
    }
   ],
   "source": [
    "apps.replace([np.inf, -np.inf], np.nan, inplace=True) \n",
    "apps.dropna()"
   ]
  },
  {
   "cell_type": "markdown",
   "metadata": {},
   "source": [
    "fixing and editing the data:"
   ]
  },
  {
   "cell_type": "markdown",
   "metadata": {},
   "source": [
    "don't need the ID,and name(dosent really matter) and it dosent matter what's the Developer Email and released time and Minimum Android doesnt matter for raiting so much: "
   ]
  },
  {
   "cell_type": "code",
   "execution_count": 86,
   "metadata": {},
   "outputs": [],
   "source": [
    "apps = apps.drop(['App Name','App Id','Developer Id','Developer Email','Released','Last Updated','Minimum Android','Developer Website','Price','Currency','Size','Privacy Policy'], axis=1)"
   ]
  },
  {
   "cell_type": "code",
   "execution_count": 87,
   "metadata": {},
   "outputs": [
    {
     "data": {
      "text/plain": [
       "2.490334441358455"
      ]
     },
     "execution_count": 87,
     "metadata": {},
     "output_type": "execute_result"
    }
   ],
   "source": [
    "np.mean(apps['Rating'])"
   ]
  },
  {
   "cell_type": "code",
   "execution_count": null,
   "metadata": {},
   "outputs": [],
   "source": []
  },
  {
   "cell_type": "markdown",
   "metadata": {},
   "source": [
    "seems so low, so i checked:"
   ]
  },
  {
   "cell_type": "code",
   "execution_count": 88,
   "metadata": {},
   "outputs": [
    {
     "data": {
      "image/png": "[encoded data removed]",
      "text/plain": [
       "<Figure size 432x288 with 1 Axes>"
      ]
     },
     "metadata": {
      "needs_background": "light"
     },
     "output_type": "display_data"
    }
   ],
   "source": [
    "plt.hist(apps['Rating'], density=True, bins=30,) \n",
    "plt.ylabel('Probability')\n",
    "plt.xlabel('Data');"
   ]
  },
  {
   "cell_type": "markdown",
   "metadata": {},
   "source": [
    "you see that the ratings are so low becaurse some of the apps no one gave rating,\n",
    "so i need to erase those:"
   ]
  },
  {
   "cell_type": "code",
   "execution_count": 89,
   "metadata": {},
   "outputs": [],
   "source": [
    "apps= apps[apps['Rating'] != 0]"
   ]
  },
  {
   "cell_type": "code",
   "execution_count": 90,
   "metadata": {},
   "outputs": [
    {
     "data": {
      "text/plain": [
       "4.081693339881024"
      ]
     },
     "execution_count": 90,
     "metadata": {},
     "output_type": "execute_result"
    }
   ],
   "source": [
    "np.mean(apps['Rating'])"
   ]
  },
  {
   "cell_type": "markdown",
   "metadata": {},
   "source": [
    "now it's seems good."
   ]
  },
  {
   "cell_type": "code",
   "execution_count": 91,
   "metadata": {
    "scrolled": true
   },
   "outputs": [
    {
     "data": {
      "image/png": "[encoded data removed]",
      "text/plain": [
       "<Figure size 360x360 with 1 Axes>"
      ]
     },
     "metadata": {},
     "output_type": "display_data"
    }
   ],
   "source": [
    "i = apps[apps['Free'] == True].shape[0]\n",
    "j = apps[apps['Free'] == False].shape[0]\n",
    "df = pd.DataFrame({'mass':[i,j ]},\n",
    "                  index=['free ','Paid'])\n",
    "plot = df.plot.pie(subplots=True, figsize=(5, 5))"
   ]
  },
  {
   "cell_type": "markdown",
   "metadata": {},
   "source": [
    "so most is free, but how does it influence?"
   ]
  },
  {
   "cell_type": "code",
   "execution_count": 92,
   "metadata": {},
   "outputs": [
    {
     "data": {
      "text/plain": [
       "Free\n",
       "False    4.164402\n",
       "True     4.078660\n",
       "Name: Rating, dtype: float64"
      ]
     },
     "execution_count": 92,
     "metadata": {},
     "output_type": "execute_result"
    }
   ],
   "source": [
    "apps.groupby(['Free']).mean()['Rating']"
   ]
  },
  {
   "cell_type": "markdown",
   "metadata": {},
   "source": [
    "so the paid apps have higher rating (probarbly because the developer does better) but not a big difference."
   ]
  },
  {
   "cell_type": "code",
   "execution_count": 93,
   "metadata": {},
   "outputs": [
    {
     "data": {
      "text/plain": [
       "Ad Supported\n",
       "False    4.030496\n",
       "True     4.105307\n",
       "Name: Rating, dtype: float64"
      ]
     },
     "execution_count": 93,
     "metadata": {},
     "output_type": "execute_result"
    }
   ],
   "source": [
    "apps.groupby(['Ad Supported']).mean()['Rating']"
   ]
  },
  {
   "cell_type": "markdown",
   "metadata": {},
   "source": [
    "that also seems reasonable because if a lot tries it so it's more likly that they won't like it,but still no big difference"
   ]
  },
  {
   "cell_type": "code",
   "execution_count": 94,
   "metadata": {},
   "outputs": [
    {
     "data": {
      "image/png": "[encoded data removed]",
      "text/plain": [
       "<Figure size 432x288 with 1 Axes>"
      ]
     },
     "metadata": {
      "needs_background": "light"
     },
     "output_type": "display_data"
    }
   ],
   "source": [
    "fig, ax = plt.subplots()\n",
    "ax.scatter(apps['Rating'],apps['Rating Count'])\n",
    "ax.set_title('# of Rating vs Rating')\n",
    "ax.set_xlabel('Rating')\n",
    "ax.set_ylabel('# of Rating')\n",
    "plt.show()"
   ]
  },
  {
   "cell_type": "markdown",
   "metadata": {},
   "source": [
    "you can see that the beter it is the more people view it and like it "
   ]
  },
  {
   "cell_type": "code",
   "execution_count": null,
   "metadata": {},
   "outputs": [],
   "source": []
  },
  {
   "cell_type": "code",
   "execution_count": null,
   "metadata": {},
   "outputs": [],
   "source": []
  },
  {
   "cell_type": "code",
   "execution_count": null,
   "metadata": {},
   "outputs": [],
   "source": []
  },
  {
   "cell_type": "markdown",
   "metadata": {},
   "source": [
    "because it's to long a take a little (my computer does'nt manage)"
   ]
  },
  {
   "cell_type": "code",
   "execution_count": 95,
   "metadata": {},
   "outputs": [],
   "source": [
    "apps = apps[0:12000]"
   ]
  },
  {
   "cell_type": "code",
   "execution_count": null,
   "metadata": {},
   "outputs": [],
   "source": []
  },
  {
   "cell_type": "markdown",
   "metadata": {},
   "source": [
    "change to int:"
   ]
  },
  {
   "cell_type": "code",
   "execution_count": 96,
   "metadata": {},
   "outputs": [],
   "source": [
    "apps = apps.astype({'Editors Choice': 'int32'})"
   ]
  },
  {
   "cell_type": "code",
   "execution_count": 97,
   "metadata": {},
   "outputs": [],
   "source": [
    "apps = apps.astype({'Free': 'int32'})"
   ]
  },
  {
   "cell_type": "code",
   "execution_count": 98,
   "metadata": {},
   "outputs": [],
   "source": [
    "apps = apps.astype({'In App Purchases': 'int32'})"
   ]
  },
  {
   "cell_type": "code",
   "execution_count": 99,
   "metadata": {},
   "outputs": [],
   "source": [
    "apps = apps.astype({'Ad Supported': 'int32'})"
   ]
  },
  {
   "cell_type": "code",
   "execution_count": null,
   "metadata": {},
   "outputs": [],
   "source": []
  },
  {
   "cell_type": "markdown",
   "metadata": {},
   "source": [
    "make the intergers reasinable, and change str to int"
   ]
  },
  {
   "cell_type": "code",
   "execution_count": 100,
   "metadata": {},
   "outputs": [],
   "source": [
    "logT = math.log(10)\n",
    "\n",
    "for i in range(len(apps['Rating'])):\n",
    "    \n",
    "        if  type(apps.iat[i,3])==str: \n",
    "            apps.iat[i,3]=apps.iat[i,3].count('0') \n",
    "        apps.iat[i,2]/= apps['Rating Count'].max()\n",
    "        if apps.iat[i,4] > 0:\n",
    "            apps.iat[i,4] =  math.log(apps.iat[i,4])/ logT\n",
    "        if apps.iat[i,5] > 0:\n",
    "            apps.iat[i,5] =  math.log(apps.iat[i,5])/ logT\n",
    "\n",
    "            "
   ]
  },
  {
   "cell_type": "code",
   "execution_count": null,
   "metadata": {},
   "outputs": [],
   "source": []
  },
  {
   "cell_type": "code",
   "execution_count": 101,
   "metadata": {},
   "outputs": [],
   "source": [
    "# Get one hot encoding of columns\n",
    "one_hot = pd.get_dummies(apps['Category'])\n",
    "one_hot2 = pd.get_dummies(apps['Content Rating'])\n",
    "# Drop column as it is now encoded\n",
    "apps = apps.drop('Category',axis = 1)\n",
    "apps = apps.drop('Content Rating',axis = 1)\n",
    "# Join the encoded df\n",
    "apps = apps.join(one_hot)\n",
    "apps = apps.join(one_hot2)\n"
   ]
  },
  {
   "cell_type": "code",
   "execution_count": null,
   "metadata": {},
   "outputs": [],
   "source": []
  },
  {
   "cell_type": "code",
   "execution_count": 102,
   "metadata": {},
   "outputs": [
    {
     "data": {
      "text/html": [
       "<div>\n",
       "<style scoped>\n",
       "    .dataframe tbody tr th:only-of-type {\n",
       "        vertical-align: middle;\n",
       "    }\n",
       "\n",
       "    .dataframe tbody tr th {\n",
       "        vertical-align: top;\n",
       "    }\n",
       "\n",
       "    .dataframe thead th {\n",
       "        text-align: right;\n",
       "    }\n",
       "</style>\n",
       "<table border=\"1\" class=\"dataframe\">\n",
       "  <thead>\n",
       "    <tr style=\"text-align: right;\">\n",
       "      <th></th>\n",
       "      <th>Rating</th>\n",
       "      <th>Rating Count</th>\n",
       "      <th>Installs</th>\n",
       "      <th>Minimum Installs</th>\n",
       "      <th>Maximum Installs</th>\n",
       "      <th>Free</th>\n",
       "      <th>Ad Supported</th>\n",
       "      <th>In App Purchases</th>\n",
       "      <th>Editors Choice</th>\n",
       "      <th>Action</th>\n",
       "      <th>Adventure</th>\n",
       "      <th>Arcade</th>\n",
       "      <th>Art &amp; Design</th>\n",
       "      <th>Auto &amp; Vehicles</th>\n",
       "      <th>Beauty</th>\n",
       "      <th>Board</th>\n",
       "      <th>Books &amp; Reference</th>\n",
       "      <th>Business</th>\n",
       "      <th>Card</th>\n",
       "      <th>Casino</th>\n",
       "      <th>Casual</th>\n",
       "      <th>Comics</th>\n",
       "      <th>Communication</th>\n",
       "      <th>Dating</th>\n",
       "      <th>Education</th>\n",
       "      <th>Educational</th>\n",
       "      <th>Entertainment</th>\n",
       "      <th>Events</th>\n",
       "      <th>Finance</th>\n",
       "      <th>Food &amp; Drink</th>\n",
       "      <th>Health &amp; Fitness</th>\n",
       "      <th>House &amp; Home</th>\n",
       "      <th>Libraries &amp; Demo</th>\n",
       "      <th>Lifestyle</th>\n",
       "      <th>Maps &amp; Navigation</th>\n",
       "      <th>Medical</th>\n",
       "      <th>Music</th>\n",
       "      <th>Music &amp; Audio</th>\n",
       "      <th>News &amp; Magazines</th>\n",
       "      <th>Parenting</th>\n",
       "      <th>Personalization</th>\n",
       "      <th>Photography</th>\n",
       "      <th>Productivity</th>\n",
       "      <th>Puzzle</th>\n",
       "      <th>Racing</th>\n",
       "      <th>Role Playing</th>\n",
       "      <th>Shopping</th>\n",
       "      <th>Simulation</th>\n",
       "      <th>Social</th>\n",
       "      <th>Sports</th>\n",
       "      <th>Strategy</th>\n",
       "      <th>Tools</th>\n",
       "      <th>Travel &amp; Local</th>\n",
       "      <th>Trivia</th>\n",
       "      <th>Video Players &amp; Editors</th>\n",
       "      <th>Weather</th>\n",
       "      <th>Word</th>\n",
       "      <th>Adults only 18+</th>\n",
       "      <th>Everyone</th>\n",
       "      <th>Everyone 10+</th>\n",
       "      <th>Mature 17+</th>\n",
       "      <th>Teen</th>\n",
       "    </tr>\n",
       "  </thead>\n",
       "  <tbody>\n",
       "    <tr>\n",
       "      <th>0</th>\n",
       "      <td>3.6</td>\n",
       "      <td>0.000053</td>\n",
       "      <td>5.0</td>\n",
       "      <td>5.00000</td>\n",
       "      <td>5</td>\n",
       "      <td>1</td>\n",
       "      <td>0</td>\n",
       "      <td>0</td>\n",
       "      <td>0</td>\n",
       "      <td>0</td>\n",
       "      <td>0</td>\n",
       "      <td>0</td>\n",
       "      <td>0</td>\n",
       "      <td>0</td>\n",
       "      <td>0</td>\n",
       "      <td>0</td>\n",
       "      <td>0</td>\n",
       "      <td>0</td>\n",
       "      <td>0</td>\n",
       "      <td>0</td>\n",
       "      <td>0</td>\n",
       "      <td>0</td>\n",
       "      <td>1</td>\n",
       "      <td>0</td>\n",
       "      <td>0</td>\n",
       "      <td>0</td>\n",
       "      <td>0</td>\n",
       "      <td>0</td>\n",
       "      <td>0</td>\n",
       "      <td>0</td>\n",
       "      <td>0</td>\n",
       "      <td>0</td>\n",
       "      <td>0</td>\n",
       "      <td>0</td>\n",
       "      <td>0</td>\n",
       "      <td>0</td>\n",
       "      <td>0</td>\n",
       "      <td>0</td>\n",
       "      <td>0</td>\n",
       "      <td>0</td>\n",
       "      <td>0</td>\n",
       "      <td>0</td>\n",
       "      <td>0</td>\n",
       "      <td>0</td>\n",
       "      <td>0</td>\n",
       "      <td>0</td>\n",
       "      <td>0</td>\n",
       "      <td>0</td>\n",
       "      <td>0</td>\n",
       "      <td>0</td>\n",
       "      <td>0</td>\n",
       "      <td>0</td>\n",
       "      <td>0</td>\n",
       "      <td>0</td>\n",
       "      <td>0</td>\n",
       "      <td>0</td>\n",
       "      <td>0</td>\n",
       "      <td>0</td>\n",
       "      <td>1</td>\n",
       "      <td>0</td>\n",
       "      <td>0</td>\n",
       "      <td>0</td>\n",
       "    </tr>\n",
       "    <tr>\n",
       "      <th>1</th>\n",
       "      <td>4.3</td>\n",
       "      <td>0.000319</td>\n",
       "      <td>6.0</td>\n",
       "      <td>6.00000</td>\n",
       "      <td>6</td>\n",
       "      <td>1</td>\n",
       "      <td>1</td>\n",
       "      <td>1</td>\n",
       "      <td>0</td>\n",
       "      <td>0</td>\n",
       "      <td>0</td>\n",
       "      <td>0</td>\n",
       "      <td>0</td>\n",
       "      <td>0</td>\n",
       "      <td>0</td>\n",
       "      <td>0</td>\n",
       "      <td>0</td>\n",
       "      <td>0</td>\n",
       "      <td>0</td>\n",
       "      <td>0</td>\n",
       "      <td>0</td>\n",
       "      <td>0</td>\n",
       "      <td>0</td>\n",
       "      <td>0</td>\n",
       "      <td>0</td>\n",
       "      <td>0</td>\n",
       "      <td>0</td>\n",
       "      <td>0</td>\n",
       "      <td>0</td>\n",
       "      <td>0</td>\n",
       "      <td>0</td>\n",
       "      <td>0</td>\n",
       "      <td>0</td>\n",
       "      <td>0</td>\n",
       "      <td>0</td>\n",
       "      <td>0</td>\n",
       "      <td>0</td>\n",
       "      <td>0</td>\n",
       "      <td>0</td>\n",
       "      <td>0</td>\n",
       "      <td>0</td>\n",
       "      <td>0</td>\n",
       "      <td>0</td>\n",
       "      <td>0</td>\n",
       "      <td>0</td>\n",
       "      <td>0</td>\n",
       "      <td>0</td>\n",
       "      <td>0</td>\n",
       "      <td>0</td>\n",
       "      <td>0</td>\n",
       "      <td>1</td>\n",
       "      <td>0</td>\n",
       "      <td>0</td>\n",
       "      <td>0</td>\n",
       "      <td>0</td>\n",
       "      <td>0</td>\n",
       "      <td>0</td>\n",
       "      <td>0</td>\n",
       "      <td>0</td>\n",
       "      <td>1</td>\n",
       "      <td>0</td>\n",
       "      <td>0</td>\n",
       "    </tr>\n",
       "    <tr>\n",
       "      <th>2</th>\n",
       "      <td>4.2</td>\n",
       "      <td>0.009012</td>\n",
       "      <td>7.0</td>\n",
       "      <td>7.69897</td>\n",
       "      <td>7</td>\n",
       "      <td>1</td>\n",
       "      <td>1</td>\n",
       "      <td>0</td>\n",
       "      <td>0</td>\n",
       "      <td>0</td>\n",
       "      <td>0</td>\n",
       "      <td>0</td>\n",
       "      <td>0</td>\n",
       "      <td>0</td>\n",
       "      <td>0</td>\n",
       "      <td>0</td>\n",
       "      <td>0</td>\n",
       "      <td>0</td>\n",
       "      <td>0</td>\n",
       "      <td>0</td>\n",
       "      <td>0</td>\n",
       "      <td>0</td>\n",
       "      <td>0</td>\n",
       "      <td>0</td>\n",
       "      <td>0</td>\n",
       "      <td>0</td>\n",
       "      <td>0</td>\n",
       "      <td>0</td>\n",
       "      <td>0</td>\n",
       "      <td>0</td>\n",
       "      <td>0</td>\n",
       "      <td>0</td>\n",
       "      <td>0</td>\n",
       "      <td>0</td>\n",
       "      <td>0</td>\n",
       "      <td>0</td>\n",
       "      <td>0</td>\n",
       "      <td>0</td>\n",
       "      <td>0</td>\n",
       "      <td>0</td>\n",
       "      <td>0</td>\n",
       "      <td>0</td>\n",
       "      <td>0</td>\n",
       "      <td>0</td>\n",
       "      <td>0</td>\n",
       "      <td>0</td>\n",
       "      <td>0</td>\n",
       "      <td>0</td>\n",
       "      <td>0</td>\n",
       "      <td>0</td>\n",
       "      <td>0</td>\n",
       "      <td>1</td>\n",
       "      <td>0</td>\n",
       "      <td>0</td>\n",
       "      <td>0</td>\n",
       "      <td>0</td>\n",
       "      <td>0</td>\n",
       "      <td>0</td>\n",
       "      <td>1</td>\n",
       "      <td>0</td>\n",
       "      <td>0</td>\n",
       "      <td>0</td>\n",
       "    </tr>\n",
       "    <tr>\n",
       "      <th>3</th>\n",
       "      <td>4.2</td>\n",
       "      <td>0.022583</td>\n",
       "      <td>8.0</td>\n",
       "      <td>8.00000</td>\n",
       "      <td>8</td>\n",
       "      <td>1</td>\n",
       "      <td>1</td>\n",
       "      <td>1</td>\n",
       "      <td>0</td>\n",
       "      <td>0</td>\n",
       "      <td>0</td>\n",
       "      <td>0</td>\n",
       "      <td>0</td>\n",
       "      <td>0</td>\n",
       "      <td>0</td>\n",
       "      <td>0</td>\n",
       "      <td>0</td>\n",
       "      <td>1</td>\n",
       "      <td>0</td>\n",
       "      <td>0</td>\n",
       "      <td>0</td>\n",
       "      <td>0</td>\n",
       "      <td>0</td>\n",
       "      <td>0</td>\n",
       "      <td>0</td>\n",
       "      <td>0</td>\n",
       "      <td>0</td>\n",
       "      <td>0</td>\n",
       "      <td>0</td>\n",
       "      <td>0</td>\n",
       "      <td>0</td>\n",
       "      <td>0</td>\n",
       "      <td>0</td>\n",
       "      <td>0</td>\n",
       "      <td>0</td>\n",
       "      <td>0</td>\n",
       "      <td>0</td>\n",
       "      <td>0</td>\n",
       "      <td>0</td>\n",
       "      <td>0</td>\n",
       "      <td>0</td>\n",
       "      <td>0</td>\n",
       "      <td>0</td>\n",
       "      <td>0</td>\n",
       "      <td>0</td>\n",
       "      <td>0</td>\n",
       "      <td>0</td>\n",
       "      <td>0</td>\n",
       "      <td>0</td>\n",
       "      <td>0</td>\n",
       "      <td>0</td>\n",
       "      <td>0</td>\n",
       "      <td>0</td>\n",
       "      <td>0</td>\n",
       "      <td>0</td>\n",
       "      <td>0</td>\n",
       "      <td>0</td>\n",
       "      <td>0</td>\n",
       "      <td>1</td>\n",
       "      <td>0</td>\n",
       "      <td>0</td>\n",
       "      <td>0</td>\n",
       "    </tr>\n",
       "    <tr>\n",
       "      <th>4</th>\n",
       "      <td>4.2</td>\n",
       "      <td>0.000012</td>\n",
       "      <td>4.0</td>\n",
       "      <td>4.69897</td>\n",
       "      <td>4</td>\n",
       "      <td>1</td>\n",
       "      <td>0</td>\n",
       "      <td>0</td>\n",
       "      <td>0</td>\n",
       "      <td>0</td>\n",
       "      <td>0</td>\n",
       "      <td>0</td>\n",
       "      <td>0</td>\n",
       "      <td>0</td>\n",
       "      <td>0</td>\n",
       "      <td>0</td>\n",
       "      <td>0</td>\n",
       "      <td>0</td>\n",
       "      <td>0</td>\n",
       "      <td>0</td>\n",
       "      <td>0</td>\n",
       "      <td>0</td>\n",
       "      <td>0</td>\n",
       "      <td>0</td>\n",
       "      <td>0</td>\n",
       "      <td>0</td>\n",
       "      <td>0</td>\n",
       "      <td>0</td>\n",
       "      <td>0</td>\n",
       "      <td>0</td>\n",
       "      <td>0</td>\n",
       "      <td>0</td>\n",
       "      <td>0</td>\n",
       "      <td>0</td>\n",
       "      <td>0</td>\n",
       "      <td>0</td>\n",
       "      <td>0</td>\n",
       "      <td>1</td>\n",
       "      <td>0</td>\n",
       "      <td>0</td>\n",
       "      <td>0</td>\n",
       "      <td>0</td>\n",
       "      <td>0</td>\n",
       "      <td>0</td>\n",
       "      <td>0</td>\n",
       "      <td>0</td>\n",
       "      <td>0</td>\n",
       "      <td>0</td>\n",
       "      <td>0</td>\n",
       "      <td>0</td>\n",
       "      <td>0</td>\n",
       "      <td>0</td>\n",
       "      <td>0</td>\n",
       "      <td>0</td>\n",
       "      <td>0</td>\n",
       "      <td>0</td>\n",
       "      <td>0</td>\n",
       "      <td>0</td>\n",
       "      <td>1</td>\n",
       "      <td>0</td>\n",
       "      <td>0</td>\n",
       "      <td>0</td>\n",
       "    </tr>\n",
       "    <tr>\n",
       "      <th>...</th>\n",
       "      <td>...</td>\n",
       "      <td>...</td>\n",
       "      <td>...</td>\n",
       "      <td>...</td>\n",
       "      <td>...</td>\n",
       "      <td>...</td>\n",
       "      <td>...</td>\n",
       "      <td>...</td>\n",
       "      <td>...</td>\n",
       "      <td>...</td>\n",
       "      <td>...</td>\n",
       "      <td>...</td>\n",
       "      <td>...</td>\n",
       "      <td>...</td>\n",
       "      <td>...</td>\n",
       "      <td>...</td>\n",
       "      <td>...</td>\n",
       "      <td>...</td>\n",
       "      <td>...</td>\n",
       "      <td>...</td>\n",
       "      <td>...</td>\n",
       "      <td>...</td>\n",
       "      <td>...</td>\n",
       "      <td>...</td>\n",
       "      <td>...</td>\n",
       "      <td>...</td>\n",
       "      <td>...</td>\n",
       "      <td>...</td>\n",
       "      <td>...</td>\n",
       "      <td>...</td>\n",
       "      <td>...</td>\n",
       "      <td>...</td>\n",
       "      <td>...</td>\n",
       "      <td>...</td>\n",
       "      <td>...</td>\n",
       "      <td>...</td>\n",
       "      <td>...</td>\n",
       "      <td>...</td>\n",
       "      <td>...</td>\n",
       "      <td>...</td>\n",
       "      <td>...</td>\n",
       "      <td>...</td>\n",
       "      <td>...</td>\n",
       "      <td>...</td>\n",
       "      <td>...</td>\n",
       "      <td>...</td>\n",
       "      <td>...</td>\n",
       "      <td>...</td>\n",
       "      <td>...</td>\n",
       "      <td>...</td>\n",
       "      <td>...</td>\n",
       "      <td>...</td>\n",
       "      <td>...</td>\n",
       "      <td>...</td>\n",
       "      <td>...</td>\n",
       "      <td>...</td>\n",
       "      <td>...</td>\n",
       "      <td>...</td>\n",
       "      <td>...</td>\n",
       "      <td>...</td>\n",
       "      <td>...</td>\n",
       "      <td>...</td>\n",
       "    </tr>\n",
       "    <tr>\n",
       "      <th>12569</th>\n",
       "      <td>4.8</td>\n",
       "      <td>0.248171</td>\n",
       "      <td>4.0</td>\n",
       "      <td>4.00000</td>\n",
       "      <td>4</td>\n",
       "      <td>1</td>\n",
       "      <td>0</td>\n",
       "      <td>0</td>\n",
       "      <td>0</td>\n",
       "      <td>0</td>\n",
       "      <td>0</td>\n",
       "      <td>0</td>\n",
       "      <td>0</td>\n",
       "      <td>0</td>\n",
       "      <td>0</td>\n",
       "      <td>0</td>\n",
       "      <td>0</td>\n",
       "      <td>0</td>\n",
       "      <td>0</td>\n",
       "      <td>0</td>\n",
       "      <td>0</td>\n",
       "      <td>0</td>\n",
       "      <td>1</td>\n",
       "      <td>0</td>\n",
       "      <td>0</td>\n",
       "      <td>0</td>\n",
       "      <td>0</td>\n",
       "      <td>0</td>\n",
       "      <td>0</td>\n",
       "      <td>0</td>\n",
       "      <td>0</td>\n",
       "      <td>0</td>\n",
       "      <td>0</td>\n",
       "      <td>0</td>\n",
       "      <td>0</td>\n",
       "      <td>0</td>\n",
       "      <td>0</td>\n",
       "      <td>0</td>\n",
       "      <td>0</td>\n",
       "      <td>0</td>\n",
       "      <td>0</td>\n",
       "      <td>0</td>\n",
       "      <td>0</td>\n",
       "      <td>0</td>\n",
       "      <td>0</td>\n",
       "      <td>0</td>\n",
       "      <td>0</td>\n",
       "      <td>0</td>\n",
       "      <td>0</td>\n",
       "      <td>0</td>\n",
       "      <td>0</td>\n",
       "      <td>0</td>\n",
       "      <td>0</td>\n",
       "      <td>0</td>\n",
       "      <td>0</td>\n",
       "      <td>0</td>\n",
       "      <td>0</td>\n",
       "      <td>0</td>\n",
       "      <td>1</td>\n",
       "      <td>0</td>\n",
       "      <td>0</td>\n",
       "      <td>0</td>\n",
       "    </tr>\n",
       "    <tr>\n",
       "      <th>12570</th>\n",
       "      <td>4.1</td>\n",
       "      <td>1.000000</td>\n",
       "      <td>4.0</td>\n",
       "      <td>4.69897</td>\n",
       "      <td>4</td>\n",
       "      <td>1</td>\n",
       "      <td>0</td>\n",
       "      <td>0</td>\n",
       "      <td>0</td>\n",
       "      <td>0</td>\n",
       "      <td>0</td>\n",
       "      <td>0</td>\n",
       "      <td>0</td>\n",
       "      <td>0</td>\n",
       "      <td>0</td>\n",
       "      <td>0</td>\n",
       "      <td>0</td>\n",
       "      <td>0</td>\n",
       "      <td>0</td>\n",
       "      <td>0</td>\n",
       "      <td>0</td>\n",
       "      <td>0</td>\n",
       "      <td>0</td>\n",
       "      <td>0</td>\n",
       "      <td>0</td>\n",
       "      <td>0</td>\n",
       "      <td>0</td>\n",
       "      <td>0</td>\n",
       "      <td>0</td>\n",
       "      <td>0</td>\n",
       "      <td>0</td>\n",
       "      <td>0</td>\n",
       "      <td>0</td>\n",
       "      <td>1</td>\n",
       "      <td>0</td>\n",
       "      <td>0</td>\n",
       "      <td>0</td>\n",
       "      <td>0</td>\n",
       "      <td>0</td>\n",
       "      <td>0</td>\n",
       "      <td>0</td>\n",
       "      <td>0</td>\n",
       "      <td>0</td>\n",
       "      <td>0</td>\n",
       "      <td>0</td>\n",
       "      <td>0</td>\n",
       "      <td>0</td>\n",
       "      <td>0</td>\n",
       "      <td>0</td>\n",
       "      <td>0</td>\n",
       "      <td>0</td>\n",
       "      <td>0</td>\n",
       "      <td>0</td>\n",
       "      <td>0</td>\n",
       "      <td>0</td>\n",
       "      <td>0</td>\n",
       "      <td>0</td>\n",
       "      <td>0</td>\n",
       "      <td>1</td>\n",
       "      <td>0</td>\n",
       "      <td>0</td>\n",
       "      <td>0</td>\n",
       "    </tr>\n",
       "    <tr>\n",
       "      <th>12572</th>\n",
       "      <td>4.6</td>\n",
       "      <td>0.057592</td>\n",
       "      <td>3.0</td>\n",
       "      <td>3.69897</td>\n",
       "      <td>3</td>\n",
       "      <td>1</td>\n",
       "      <td>0</td>\n",
       "      <td>0</td>\n",
       "      <td>0</td>\n",
       "      <td>0</td>\n",
       "      <td>0</td>\n",
       "      <td>0</td>\n",
       "      <td>0</td>\n",
       "      <td>0</td>\n",
       "      <td>0</td>\n",
       "      <td>0</td>\n",
       "      <td>0</td>\n",
       "      <td>0</td>\n",
       "      <td>0</td>\n",
       "      <td>0</td>\n",
       "      <td>0</td>\n",
       "      <td>0</td>\n",
       "      <td>0</td>\n",
       "      <td>0</td>\n",
       "      <td>0</td>\n",
       "      <td>0</td>\n",
       "      <td>0</td>\n",
       "      <td>0</td>\n",
       "      <td>0</td>\n",
       "      <td>0</td>\n",
       "      <td>0</td>\n",
       "      <td>0</td>\n",
       "      <td>0</td>\n",
       "      <td>1</td>\n",
       "      <td>0</td>\n",
       "      <td>0</td>\n",
       "      <td>0</td>\n",
       "      <td>0</td>\n",
       "      <td>0</td>\n",
       "      <td>0</td>\n",
       "      <td>0</td>\n",
       "      <td>0</td>\n",
       "      <td>0</td>\n",
       "      <td>0</td>\n",
       "      <td>0</td>\n",
       "      <td>0</td>\n",
       "      <td>0</td>\n",
       "      <td>0</td>\n",
       "      <td>0</td>\n",
       "      <td>0</td>\n",
       "      <td>0</td>\n",
       "      <td>0</td>\n",
       "      <td>0</td>\n",
       "      <td>0</td>\n",
       "      <td>0</td>\n",
       "      <td>0</td>\n",
       "      <td>0</td>\n",
       "      <td>0</td>\n",
       "      <td>1</td>\n",
       "      <td>0</td>\n",
       "      <td>0</td>\n",
       "      <td>0</td>\n",
       "    </tr>\n",
       "    <tr>\n",
       "      <th>12574</th>\n",
       "      <td>3.5</td>\n",
       "      <td>0.178010</td>\n",
       "      <td>3.0</td>\n",
       "      <td>3.00000</td>\n",
       "      <td>3</td>\n",
       "      <td>1</td>\n",
       "      <td>0</td>\n",
       "      <td>1</td>\n",
       "      <td>0</td>\n",
       "      <td>0</td>\n",
       "      <td>0</td>\n",
       "      <td>0</td>\n",
       "      <td>0</td>\n",
       "      <td>0</td>\n",
       "      <td>0</td>\n",
       "      <td>0</td>\n",
       "      <td>0</td>\n",
       "      <td>0</td>\n",
       "      <td>0</td>\n",
       "      <td>0</td>\n",
       "      <td>0</td>\n",
       "      <td>0</td>\n",
       "      <td>0</td>\n",
       "      <td>0</td>\n",
       "      <td>0</td>\n",
       "      <td>0</td>\n",
       "      <td>0</td>\n",
       "      <td>0</td>\n",
       "      <td>0</td>\n",
       "      <td>0</td>\n",
       "      <td>0</td>\n",
       "      <td>0</td>\n",
       "      <td>0</td>\n",
       "      <td>0</td>\n",
       "      <td>0</td>\n",
       "      <td>0</td>\n",
       "      <td>0</td>\n",
       "      <td>0</td>\n",
       "      <td>0</td>\n",
       "      <td>0</td>\n",
       "      <td>0</td>\n",
       "      <td>0</td>\n",
       "      <td>0</td>\n",
       "      <td>0</td>\n",
       "      <td>0</td>\n",
       "      <td>0</td>\n",
       "      <td>1</td>\n",
       "      <td>0</td>\n",
       "      <td>0</td>\n",
       "      <td>0</td>\n",
       "      <td>0</td>\n",
       "      <td>0</td>\n",
       "      <td>0</td>\n",
       "      <td>0</td>\n",
       "      <td>0</td>\n",
       "      <td>0</td>\n",
       "      <td>0</td>\n",
       "      <td>0</td>\n",
       "      <td>1</td>\n",
       "      <td>0</td>\n",
       "      <td>0</td>\n",
       "      <td>0</td>\n",
       "    </tr>\n",
       "    <tr>\n",
       "      <th>12575</th>\n",
       "      <td>4.5</td>\n",
       "      <td>1.000000</td>\n",
       "      <td>4.0</td>\n",
       "      <td>4.00000</td>\n",
       "      <td>4</td>\n",
       "      <td>1</td>\n",
       "      <td>0</td>\n",
       "      <td>1</td>\n",
       "      <td>0</td>\n",
       "      <td>0</td>\n",
       "      <td>0</td>\n",
       "      <td>0</td>\n",
       "      <td>0</td>\n",
       "      <td>0</td>\n",
       "      <td>0</td>\n",
       "      <td>0</td>\n",
       "      <td>0</td>\n",
       "      <td>0</td>\n",
       "      <td>0</td>\n",
       "      <td>0</td>\n",
       "      <td>0</td>\n",
       "      <td>0</td>\n",
       "      <td>0</td>\n",
       "      <td>0</td>\n",
       "      <td>0</td>\n",
       "      <td>0</td>\n",
       "      <td>0</td>\n",
       "      <td>0</td>\n",
       "      <td>0</td>\n",
       "      <td>0</td>\n",
       "      <td>0</td>\n",
       "      <td>0</td>\n",
       "      <td>0</td>\n",
       "      <td>0</td>\n",
       "      <td>0</td>\n",
       "      <td>0</td>\n",
       "      <td>0</td>\n",
       "      <td>0</td>\n",
       "      <td>0</td>\n",
       "      <td>0</td>\n",
       "      <td>0</td>\n",
       "      <td>0</td>\n",
       "      <td>0</td>\n",
       "      <td>0</td>\n",
       "      <td>0</td>\n",
       "      <td>0</td>\n",
       "      <td>0</td>\n",
       "      <td>0</td>\n",
       "      <td>0</td>\n",
       "      <td>0</td>\n",
       "      <td>0</td>\n",
       "      <td>1</td>\n",
       "      <td>0</td>\n",
       "      <td>0</td>\n",
       "      <td>0</td>\n",
       "      <td>0</td>\n",
       "      <td>0</td>\n",
       "      <td>0</td>\n",
       "      <td>1</td>\n",
       "      <td>0</td>\n",
       "      <td>0</td>\n",
       "      <td>0</td>\n",
       "    </tr>\n",
       "  </tbody>\n",
       "</table>\n",
       "<p>11891 rows × 62 columns</p>\n",
       "</div>"
      ],
      "text/plain": [
       "       Rating  Rating Count  Installs  Minimum Installs  Maximum Installs  \\\n",
       "0         3.6      0.000053       5.0           5.00000                 5   \n",
       "1         4.3      0.000319       6.0           6.00000                 6   \n",
       "2         4.2      0.009012       7.0           7.69897                 7   \n",
       "3         4.2      0.022583       8.0           8.00000                 8   \n",
       "4         4.2      0.000012       4.0           4.69897                 4   \n",
       "...       ...           ...       ...               ...               ...   \n",
       "12569     4.8      0.248171       4.0           4.00000                 4   \n",
       "12570     4.1      1.000000       4.0           4.69897                 4   \n",
       "12572     4.6      0.057592       3.0           3.69897                 3   \n",
       "12574     3.5      0.178010       3.0           3.00000                 3   \n",
       "12575     4.5      1.000000       4.0           4.00000                 4   \n",
       "\n",
       "       Free  Ad Supported  In App Purchases  Editors Choice  Action  \\\n",
       "0         1             0                 0               0       0   \n",
       "1         1             1                 1               0       0   \n",
       "2         1             1                 0               0       0   \n",
       "3         1             1                 1               0       0   \n",
       "4         1             0                 0               0       0   \n",
       "...     ...           ...               ...             ...     ...   \n",
       "12569     1             0                 0               0       0   \n",
       "12570     1             0                 0               0       0   \n",
       "12572     1             0                 0               0       0   \n",
       "12574     1             0                 1               0       0   \n",
       "12575     1             0                 1               0       0   \n",
       "\n",
       "       Adventure  Arcade  Art & Design  Auto & Vehicles  Beauty  Board  \\\n",
       "0              0       0             0                0       0      0   \n",
       "1              0       0             0                0       0      0   \n",
       "2              0       0             0                0       0      0   \n",
       "3              0       0             0                0       0      0   \n",
       "4              0       0             0                0       0      0   \n",
       "...          ...     ...           ...              ...     ...    ...   \n",
       "12569          0       0             0                0       0      0   \n",
       "12570          0       0             0                0       0      0   \n",
       "12572          0       0             0                0       0      0   \n",
       "12574          0       0             0                0       0      0   \n",
       "12575          0       0             0                0       0      0   \n",
       "\n",
       "       Books & Reference  Business  Card  Casino  Casual  Comics  \\\n",
       "0                      0         0     0       0       0       0   \n",
       "1                      0         0     0       0       0       0   \n",
       "2                      0         0     0       0       0       0   \n",
       "3                      0         1     0       0       0       0   \n",
       "4                      0         0     0       0       0       0   \n",
       "...                  ...       ...   ...     ...     ...     ...   \n",
       "12569                  0         0     0       0       0       0   \n",
       "12570                  0         0     0       0       0       0   \n",
       "12572                  0         0     0       0       0       0   \n",
       "12574                  0         0     0       0       0       0   \n",
       "12575                  0         0     0       0       0       0   \n",
       "\n",
       "       Communication  Dating  Education  Educational  Entertainment  Events  \\\n",
       "0                  1       0          0            0              0       0   \n",
       "1                  0       0          0            0              0       0   \n",
       "2                  0       0          0            0              0       0   \n",
       "3                  0       0          0            0              0       0   \n",
       "4                  0       0          0            0              0       0   \n",
       "...              ...     ...        ...          ...            ...     ...   \n",
       "12569              1       0          0            0              0       0   \n",
       "12570              0       0          0            0              0       0   \n",
       "12572              0       0          0            0              0       0   \n",
       "12574              0       0          0            0              0       0   \n",
       "12575              0       0          0            0              0       0   \n",
       "\n",
       "       Finance  Food & Drink  Health & Fitness  House & Home  \\\n",
       "0            0             0                 0             0   \n",
       "1            0             0                 0             0   \n",
       "2            0             0                 0             0   \n",
       "3            0             0                 0             0   \n",
       "4            0             0                 0             0   \n",
       "...        ...           ...               ...           ...   \n",
       "12569        0             0                 0             0   \n",
       "12570        0             0                 0             0   \n",
       "12572        0             0                 0             0   \n",
       "12574        0             0                 0             0   \n",
       "12575        0             0                 0             0   \n",
       "\n",
       "       Libraries & Demo  Lifestyle  Maps & Navigation  Medical  Music  \\\n",
       "0                     0          0                  0        0      0   \n",
       "1                     0          0                  0        0      0   \n",
       "2                     0          0                  0        0      0   \n",
       "3                     0          0                  0        0      0   \n",
       "4                     0          0                  0        0      0   \n",
       "...                 ...        ...                ...      ...    ...   \n",
       "12569                 0          0                  0        0      0   \n",
       "12570                 0          1                  0        0      0   \n",
       "12572                 0          1                  0        0      0   \n",
       "12574                 0          0                  0        0      0   \n",
       "12575                 0          0                  0        0      0   \n",
       "\n",
       "       Music & Audio  News & Magazines  Parenting  Personalization  \\\n",
       "0                  0                 0          0                0   \n",
       "1                  0                 0          0                0   \n",
       "2                  0                 0          0                0   \n",
       "3                  0                 0          0                0   \n",
       "4                  1                 0          0                0   \n",
       "...              ...               ...        ...              ...   \n",
       "12569              0                 0          0                0   \n",
       "12570              0                 0          0                0   \n",
       "12572              0                 0          0                0   \n",
       "12574              0                 0          0                0   \n",
       "12575              0                 0          0                0   \n",
       "\n",
       "       Photography  Productivity  Puzzle  Racing  Role Playing  Shopping  \\\n",
       "0                0             0       0       0             0         0   \n",
       "1                0             0       0       0             0         0   \n",
       "2                0             0       0       0             0         0   \n",
       "3                0             0       0       0             0         0   \n",
       "4                0             0       0       0             0         0   \n",
       "...            ...           ...     ...     ...           ...       ...   \n",
       "12569            0             0       0       0             0         0   \n",
       "12570            0             0       0       0             0         0   \n",
       "12572            0             0       0       0             0         0   \n",
       "12574            0             0       0       0             0         1   \n",
       "12575            0             0       0       0             0         0   \n",
       "\n",
       "       Simulation  Social  Sports  Strategy  Tools  Travel & Local  Trivia  \\\n",
       "0               0       0       0         0      0               0       0   \n",
       "1               0       0       0         1      0               0       0   \n",
       "2               0       0       0         0      1               0       0   \n",
       "3               0       0       0         0      0               0       0   \n",
       "4               0       0       0         0      0               0       0   \n",
       "...           ...     ...     ...       ...    ...             ...     ...   \n",
       "12569           0       0       0         0      0               0       0   \n",
       "12570           0       0       0         0      0               0       0   \n",
       "12572           0       0       0         0      0               0       0   \n",
       "12574           0       0       0         0      0               0       0   \n",
       "12575           0       0       0         0      1               0       0   \n",
       "\n",
       "       Video Players & Editors  Weather  Word  Adults only 18+  Everyone  \\\n",
       "0                            0        0     0                0         1   \n",
       "1                            0        0     0                0         0   \n",
       "2                            0        0     0                0         1   \n",
       "3                            0        0     0                0         1   \n",
       "4                            0        0     0                0         1   \n",
       "...                        ...      ...   ...              ...       ...   \n",
       "12569                        0        0     0                0         1   \n",
       "12570                        0        0     0                0         1   \n",
       "12572                        0        0     0                0         1   \n",
       "12574                        0        0     0                0         1   \n",
       "12575                        0        0     0                0         1   \n",
       "\n",
       "       Everyone 10+  Mature 17+  Teen  \n",
       "0                 0           0     0  \n",
       "1                 1           0     0  \n",
       "2                 0           0     0  \n",
       "3                 0           0     0  \n",
       "4                 0           0     0  \n",
       "...             ...         ...   ...  \n",
       "12569             0           0     0  \n",
       "12570             0           0     0  \n",
       "12572             0           0     0  \n",
       "12574             0           0     0  \n",
       "12575             0           0     0  \n",
       "\n",
       "[11891 rows x 62 columns]"
      ]
     },
     "execution_count": 102,
     "metadata": {},
     "output_type": "execute_result"
    }
   ],
   "source": [
    "apps.replace([np.inf, -np.inf], np.nan, inplace=True) \n",
    "apps.dropna()\n"
   ]
  },
  {
   "cell_type": "code",
   "execution_count": 103,
   "metadata": {},
   "outputs": [],
   "source": [
    "apps = apps.apply(lambda x: [y if y <= 10.0 else 10.0 for y in x])\n",
    "apps = apps.apply(lambda x: [y if y >= 0.0 else 0.0 for y in x])"
   ]
  },
  {
   "cell_type": "code",
   "execution_count": 104,
   "metadata": {},
   "outputs": [],
   "source": [
    "appsTr = apps[:10000]"
   ]
  },
  {
   "cell_type": "code",
   "execution_count": 105,
   "metadata": {},
   "outputs": [],
   "source": [
    "appsTe = apps[10000:12000]"
   ]
  },
  {
   "cell_type": "code",
   "execution_count": 106,
   "metadata": {},
   "outputs": [],
   "source": [
    "from sklearn.neighbors import KNeighborsRegressor"
   ]
  },
  {
   "cell_type": "code",
   "execution_count": 107,
   "metadata": {},
   "outputs": [],
   "source": [
    "knn = KNeighborsRegressor(n_neighbors=5)"
   ]
  },
  {
   "cell_type": "code",
   "execution_count": 108,
   "metadata": {
    "scrolled": true
   },
   "outputs": [
    {
     "data": {
      "text/plain": [
       "KNeighborsRegressor()"
      ]
     },
     "execution_count": 108,
     "metadata": {},
     "output_type": "execute_result"
    }
   ],
   "source": [
    "knn.fit(appsTr.drop('Rating',axis=1),appsTr['Rating'])"
   ]
  },
  {
   "cell_type": "code",
   "execution_count": 109,
   "metadata": {},
   "outputs": [
    {
     "data": {
      "text/plain": [
       "array([4.28, 4.42, 4.42, ..., 3.72, 4.32, 4.14])"
      ]
     },
     "execution_count": 109,
     "metadata": {},
     "output_type": "execute_result"
    }
   ],
   "source": [
    "knn.predict(appsTe.drop('Rating',axis=1))"
   ]
  },
  {
   "cell_type": "code",
   "execution_count": 110,
   "metadata": {},
   "outputs": [
    {
     "data": {
      "text/plain": [
       "0.6687644783665221"
      ]
     },
     "execution_count": 110,
     "metadata": {},
     "output_type": "execute_result"
    }
   ],
   "source": [
    "knn.score(appsTr.drop('Rating',axis=1), appsTr['Rating'])"
   ]
  },
  {
   "cell_type": "code",
   "execution_count": 111,
   "metadata": {},
   "outputs": [
    {
     "data": {
      "text/plain": [
       "0.5828511397995157"
      ]
     },
     "execution_count": 111,
     "metadata": {},
     "output_type": "execute_result"
    }
   ],
   "source": [
    "knn.score(appsTe.drop('Rating',axis=1), appsTe['Rating'])"
   ]
  },
  {
   "cell_type": "code",
   "execution_count": 112,
   "metadata": {},
   "outputs": [],
   "source": [
    "from sklearn.svm import SVR"
   ]
  },
  {
   "cell_type": "code",
   "execution_count": 113,
   "metadata": {},
   "outputs": [
    {
     "data": {
      "text/plain": [
       "SVR()"
      ]
     },
     "execution_count": 113,
     "metadata": {},
     "output_type": "execute_result"
    }
   ],
   "source": [
    "from sklearn.svm import SVR\n",
    "svr = SVR()\n",
    "svr.fit(appsTr.drop('Rating',axis=1),appsTr['Rating'])"
   ]
  },
  {
   "cell_type": "code",
   "execution_count": 114,
   "metadata": {},
   "outputs": [
    {
     "name": "stdout",
     "output_type": "stream",
     "text": [
      "0.5342387286634562\n",
      "0.6249502054429683\n"
     ]
    }
   ],
   "source": [
    "print(svr.score(appsTr.drop('Rating',axis=1), appsTr['Rating']))\n",
    "print(svr.score(appsTe.drop('Rating',axis=1), appsTe['Rating']))"
   ]
  },
  {
   "cell_type": "code",
   "execution_count": null,
   "metadata": {},
   "outputs": [],
   "source": []
  },
  {
   "cell_type": "code",
   "execution_count": null,
   "metadata": {},
   "outputs": [],
   "source": []
  },
  {
   "cell_type": "code",
   "execution_count": null,
   "metadata": {},
   "outputs": [],
   "source": []
  },
  {
   "cell_type": "code",
   "execution_count": null,
   "metadata": {},
   "outputs": [],
   "source": []
  },
  {
   "cell_type": "markdown",
   "metadata": {},
   "source": [
    "https://www.kaggle.com/aungpyaeap/tictactoe-endgame-dataset-uci to the dataset"
   ]
  },
  {
   "cell_type": "code",
   "execution_count": 139,
   "metadata": {},
   "outputs": [],
   "source": [
    "tic_tac = pd.read_csv(r'C:\\Users\\User\\Documents\\TicTacToe\\tic-tac-toe-endgame.csv')\n",
    "tic_tac = tic_tac.rename(columns={\"V10\": \"win\"})"
   ]
  },
  {
   "cell_type": "code",
   "execution_count": 140,
   "metadata": {},
   "outputs": [
    {
     "data": {
      "image/png": "[encoded data removed]",
      "text/plain": [
       "<Figure size 360x360 with 1 Axes>"
      ]
     },
     "metadata": {},
     "output_type": "display_data"
    }
   ],
   "source": [
    "i = tic_tac[tic_tac['win'] == 'positive'].shape[0]\n",
    "j = tic_tac[tic_tac['win'] == 'negative'].shape[0]\n",
    "pie_tic= pd.DataFrame({'mass':[i,j ]},\n",
    "                  index=['won ','lose'])\n",
    "plot = pie_tic.plot.pie(subplots=True, figsize=(5, 5))"
   ]
  },
  {
   "cell_type": "markdown",
   "metadata": {},
   "source": [
    "more chances of some one wining"
   ]
  },
  {
   "cell_type": "code",
   "execution_count": 141,
   "metadata": {},
   "outputs": [
    {
     "data": {
      "text/html": [
       "<div>\n",
       "<style scoped>\n",
       "    .dataframe tbody tr th:only-of-type {\n",
       "        vertical-align: middle;\n",
       "    }\n",
       "\n",
       "    .dataframe tbody tr th {\n",
       "        vertical-align: top;\n",
       "    }\n",
       "\n",
       "    .dataframe thead th {\n",
       "        text-align: right;\n",
       "    }\n",
       "</style>\n",
       "<table border=\"1\" class=\"dataframe\">\n",
       "  <thead>\n",
       "    <tr style=\"text-align: right;\">\n",
       "      <th></th>\n",
       "      <th>mass</th>\n",
       "    </tr>\n",
       "  </thead>\n",
       "  <tbody>\n",
       "    <tr>\n",
       "      <th>won</th>\n",
       "      <td>626</td>\n",
       "    </tr>\n",
       "    <tr>\n",
       "      <th>lose</th>\n",
       "      <td>332</td>\n",
       "    </tr>\n",
       "  </tbody>\n",
       "</table>\n",
       "</div>"
      ],
      "text/plain": [
       "      mass\n",
       "won    626\n",
       "lose   332"
      ]
     },
     "execution_count": 141,
     "metadata": {},
     "output_type": "execute_result"
    }
   ],
   "source": [
    "pie_tic"
   ]
  },
  {
   "cell_type": "code",
   "execution_count": 158,
   "metadata": {},
   "outputs": [
    {
     "data": {
      "text/plain": [
       "(array([0.52453027, 0.65448852, 0.32098121]),\n",
       " array([0.        , 0.66666667, 1.33333333, 2.        ]),\n",
       " <BarContainer object of 3 artists>)"
      ]
     },
     "execution_count": 158,
     "metadata": {},
     "output_type": "execute_result"
    },
    {
     "data": {
      "image/png": "[encoded data removed]",
      "text/plain": [
       "<Figure size 432x288 with 9 Axes>"
      ]
     },
     "metadata": {
      "needs_background": "light"
     },
     "output_type": "display_data"
    }
   ],
   "source": [
    "fig, ax = plt.subplots(3,3)\n",
    "ax[0,0].hist(tic_tac['V1'], density=True, bins=3,)\n",
    "ax[0,1].hist(tic_tac['V2'], density=True, bins=3,)\n",
    "ax[0,2].hist(tic_tac['V3'], density=True, bins=3,)\n",
    "ax[1,0].hist(tic_tac['V4'], density=True, bins=3,)\n",
    "ax[1,1].hist(tic_tac['V5'], density=True, bins=3,)\n",
    "ax[1,2].hist(tic_tac['V6'], density=True, bins=3,)\n",
    "ax[2,0].hist(tic_tac['V7'], density=True, bins=3,)\n",
    "ax[2,1].hist(tic_tac['V8'], density=True, bins=3,)\n",
    "ax[2,2].hist(tic_tac['V9'], density=True, bins=3,)\n"
   ]
  },
  {
   "cell_type": "code",
   "execution_count": 167,
   "metadata": {},
   "outputs": [
    {
     "data": {
      "image/png": "[encoded data removed]",
      "text/plain": [
       "<Figure size 432x288 with 1 Axes>"
      ]
     },
     "metadata": {
      "needs_background": "light"
     },
     "output_type": "display_data"
    }
   ],
   "source": [
    "fig, ax = plt.subplots()\n",
    "ax.hist(tic_tac, density=True, bins=19,)\n",
    "ax.set_title('tic tac toe')\n",
    "ax.set_xlabel('games')\n",
    "ax.set_ylabel('places')\n",
    "plt.show()"
   ]
  },
  {
   "cell_type": "code",
   "execution_count": null,
   "metadata": {},
   "outputs": [],
   "source": []
  },
  {
   "cell_type": "markdown",
   "metadata": {},
   "source": []
  },
  {
   "cell_type": "code",
   "execution_count": 119,
   "metadata": {},
   "outputs": [],
   "source": [
    "\n",
    "\n",
    "for i in range(1,10):\n",
    "    current_colum = \"V\"+str(i)\n",
    "    # Get one hot encoding of the columns\n",
    "    one_hot = pd.get_dummies(tic_tac[current_colum],prefix=current_colum)\n",
    "    # Drop the columns as they are now encoded\n",
    "    tic_tac = tic_tac.drop(current_colum,axis = 1)\n",
    "    # Join the encoded df\n",
    "    tic_tac = tic_tac.join(one_hot)\n",
    "    # Drop 'b'                           \n",
    "    tic_tac = tic_tac.drop([current_colum+'_b'],axis=1)"
   ]
  },
  {
   "cell_type": "code",
   "execution_count": null,
   "metadata": {},
   "outputs": [],
   "source": []
  },
  {
   "cell_type": "code",
   "execution_count": null,
   "metadata": {},
   "outputs": [],
   "source": []
  },
  {
   "cell_type": "code",
   "execution_count": 120,
   "metadata": {},
   "outputs": [],
   "source": [
    "tic_train = tic_tac[tic_tac.index % 5 != 0]\n",
    "tic_test = tic_tac[tic_tac.index % 5 == 0]"
   ]
  },
  {
   "cell_type": "code",
   "execution_count": null,
   "metadata": {},
   "outputs": [],
   "source": []
  },
  {
   "cell_type": "code",
   "execution_count": 121,
   "metadata": {},
   "outputs": [],
   "source": [
    "from sklearn.neighbors import KNeighborsClassifier"
   ]
  },
  {
   "cell_type": "code",
   "execution_count": 130,
   "metadata": {},
   "outputs": [],
   "source": [
    "knn = KNeighborsClassifier(n_neighbors=1)"
   ]
  },
  {
   "cell_type": "code",
   "execution_count": 131,
   "metadata": {},
   "outputs": [
    {
     "data": {
      "text/plain": [
       "KNeighborsClassifier(n_neighbors=1)"
      ]
     },
     "execution_count": 131,
     "metadata": {},
     "output_type": "execute_result"
    }
   ],
   "source": [
    "knn.fit(tic_train.drop('win',axis=1),tic_train['win'])"
   ]
  },
  {
   "cell_type": "code",
   "execution_count": 132,
   "metadata": {},
   "outputs": [
    {
     "data": {
      "text/plain": [
       "array(['positive', 'positive', 'positive', 'positive', 'positive',\n",
       "       'positive', 'positive', 'positive', 'positive', 'positive',\n",
       "       'positive', 'positive', 'positive', 'positive', 'positive',\n",
       "       'positive', 'positive', 'positive', 'positive', 'positive',\n",
       "       'positive', 'positive', 'positive', 'positive', 'positive',\n",
       "       'positive', 'positive', 'positive', 'positive', 'positive',\n",
       "       'positive', 'positive', 'positive', 'positive', 'positive',\n",
       "       'positive', 'positive', 'positive', 'positive', 'positive',\n",
       "       'positive', 'positive', 'positive', 'positive', 'positive',\n",
       "       'positive', 'positive', 'positive', 'positive', 'positive',\n",
       "       'positive', 'positive', 'positive', 'positive', 'positive',\n",
       "       'positive', 'positive', 'positive', 'positive', 'positive',\n",
       "       'positive', 'positive', 'positive', 'positive', 'positive',\n",
       "       'positive', 'positive', 'positive', 'positive', 'positive',\n",
       "       'positive', 'positive', 'positive', 'positive', 'positive',\n",
       "       'positive', 'positive', 'positive', 'positive', 'positive',\n",
       "       'positive', 'positive', 'positive', 'positive', 'positive',\n",
       "       'positive', 'positive', 'positive', 'positive', 'positive',\n",
       "       'positive', 'positive', 'positive', 'positive', 'positive',\n",
       "       'positive', 'positive', 'positive', 'positive', 'positive',\n",
       "       'positive', 'positive', 'positive', 'positive', 'positive',\n",
       "       'positive', 'positive', 'positive', 'positive', 'positive',\n",
       "       'positive', 'positive', 'positive', 'positive', 'positive',\n",
       "       'positive', 'positive', 'positive', 'positive', 'positive',\n",
       "       'positive', 'positive', 'positive', 'positive', 'positive',\n",
       "       'positive', 'negative', 'negative', 'negative', 'negative',\n",
       "       'negative', 'negative', 'negative', 'negative', 'negative',\n",
       "       'negative', 'negative', 'negative', 'negative', 'negative',\n",
       "       'negative', 'negative', 'negative', 'negative', 'negative',\n",
       "       'negative', 'negative', 'negative', 'negative', 'negative',\n",
       "       'negative', 'negative', 'negative', 'negative', 'negative',\n",
       "       'negative', 'negative', 'negative', 'negative', 'negative',\n",
       "       'negative', 'negative', 'negative', 'negative', 'negative',\n",
       "       'negative', 'negative', 'negative', 'negative', 'negative',\n",
       "       'negative', 'negative', 'negative', 'negative', 'negative',\n",
       "       'negative', 'negative', 'negative', 'negative', 'negative',\n",
       "       'negative', 'negative', 'negative', 'negative', 'negative',\n",
       "       'negative', 'negative', 'negative', 'negative', 'negative',\n",
       "       'negative', 'negative'], dtype=object)"
      ]
     },
     "execution_count": 132,
     "metadata": {},
     "output_type": "execute_result"
    }
   ],
   "source": [
    "knn.predict(tic_test.drop('win',axis=1))"
   ]
  },
  {
   "cell_type": "code",
   "execution_count": 133,
   "metadata": {},
   "outputs": [
    {
     "data": {
      "text/plain": [
       "1.0"
      ]
     },
     "execution_count": 133,
     "metadata": {},
     "output_type": "execute_result"
    }
   ],
   "source": [
    "knn.score(tic_train.drop('win',axis=1), tic_train['win'])"
   ]
  },
  {
   "cell_type": "code",
   "execution_count": 134,
   "metadata": {},
   "outputs": [
    {
     "data": {
      "text/plain": [
       "1.0"
      ]
     },
     "execution_count": 134,
     "metadata": {},
     "output_type": "execute_result"
    }
   ],
   "source": [
    "knn.score(tic_test.drop('win',axis=1), tic_test['win'])"
   ]
  },
  {
   "cell_type": "markdown",
   "metadata": {},
   "source": [
    "it works!!! well... it is a game with rules"
   ]
  },
  {
   "cell_type": "code",
   "execution_count": 135,
   "metadata": {},
   "outputs": [],
   "source": [
    "from sklearn.svm import SVC"
   ]
  },
  {
   "cell_type": "code",
   "execution_count": 136,
   "metadata": {
    "scrolled": true
   },
   "outputs": [
    {
     "data": {
      "text/plain": [
       "SVC()"
      ]
     },
     "execution_count": 136,
     "metadata": {},
     "output_type": "execute_result"
    }
   ],
   "source": [
    "from sklearn.svm import SVC\n",
    "svc = SVC()\n",
    "svc.fit(tic_test.drop('win',axis=1),tic_test['win'])"
   ]
  },
  {
   "cell_type": "code",
   "execution_count": 137,
   "metadata": {},
   "outputs": [
    {
     "name": "stdout",
     "output_type": "stream",
     "text": [
      "0.8785900783289817\n",
      "0.9635416666666666\n"
     ]
    }
   ],
   "source": [
    "print(svc.score(tic_train.drop('win',axis=1), tic_train['win']))\n",
    "print(svc.score(tic_test.drop('win',axis=1), tic_test['win']))"
   ]
  },
  {
   "cell_type": "code",
   "execution_count": null,
   "metadata": {},
   "outputs": [],
   "source": []
  },
  {
   "cell_type": "code",
   "execution_count": null,
   "metadata": {},
   "outputs": [],
   "source": []
  },
  {
   "cell_type": "code",
   "execution_count": null,
   "metadata": {},
   "outputs": [],
   "source": []
  }
 ],
 "metadata": {
  "kernelspec": {
   "display_name": "Python 3",
   "language": "python",
   "name": "python3"
  },
  "language_info": {
   "codemirror_mode": {
    "name": "ipython",
    "version": 3
   },
   "file_extension": ".py",
   "mimetype": "text/x-python",
   "name": "python",
   "nbconvert_exporter": "python",
   "pygments_lexer": "ipython3",
   "version": "3.8.5"
  }
 },
 "nbformat": 4,
 "nbformat_minor": 4
}
